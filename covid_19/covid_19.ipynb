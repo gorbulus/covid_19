{
 "cells": [
  {
   "cell_type": "markdown",
   "metadata": {},
   "source": [
    "# COVID-19\n",
    "\n",
    "<p align=\"center\">\n",
    "  <img width=\"180\" src=\"https://user-images.githubusercontent.com/19881320/54484151-b85c4780-4836-11e9-923f-c5e0e5afe866.jpg\">\n",
    "</p>\n",
    "\n",
    "![green-divider](https://user-images.githubusercontent.com/7065401/52071924-c003ad80-2562-11e9-8297-1c6595f8a7ff.png)\n",
    "\n",
    "\n",
    "## Contact Information\n",
    "\n",
    "William Ponton: [LinkedIn](https://www.linkedin.com/in/williampontoncfsp/) \n",
    "\n",
    "Email: [@gorbulus](waponton@gmail.com)\n",
    "\n",
    "REPL: [@gorbulus](https://repl.it/@gorbulus)\n",
    "\n",
    "Github: [gorbulus](https://github.com/gorbulus)\n",
    "\n",
    "![green-divider](https://user-images.githubusercontent.com/7065401/52071924-c003ad80-2562-11e9-8297-1c6595f8a7ff.png)\n",
    "\n",
    "\n",
    "## Overview\n",
    "\n",
    "This notebook will be a collection of Data Science basics, examples, and best practices for use as a reference guide.\n",
    "\n",
    "There are five sections of this guide broken down to the basic steps of the Data Analysis process.  The first step is related to importing a dataset to your environment to be able to analyze and do the work.  Some estimates show that Data Scientists can spend up to 80% of their time cleaning and organizing data for analysis and modeling.  The second step is to define best practices for cleaning and organizing, how to handle ```NULL``` values, and how to merge and organize messy data.  Once the dataset is normalized and cleaned, this guide will detail common statistical methods and define the values needed for visualization and final stats for the Interpretation section.  Numerical Analysis is the 'magic' of Data Science, as this step often can expose anomalies and patterns in the data that humans alone might not have been able to interpret.  The output of the Numerical Analysis step also powers the Visualizations that will be presented to the stakeholders in the final reporting, and is vital for the subsequent step of Interpretation and Reporting.  Finally, the guide covers creating a deliverable to be passed off to other departments. The final result must be understandable by all audiences it is intended for, so knowing the goals of the project up front is imperative for keeping the results in the scope of the audience's understanding of the analysis. \n",
    "\n",
    "### Data Science Steps\n",
    "\n",
    "- 0.0 Importing Data\n",
    "\n",
    "- 0.1 Cleaning & Organizing\n",
    "\n",
    "- 0.2 Numerical Analysis\n",
    "\n",
    "- 0.3 Visualizations\n",
    "\n",
    "- 0.4 Interpretation & Reporting\n",
    "\n",
    "## Data Science with Python\n",
    "\n",
    "Python has a rich Data Science functionality that has been motivated by teams of scientists and engineers trying to solve scientific and engineering problems.  Python's Object Oriented Design, ease of syntax, and available libraries make it the industry standard for Data Analysis.  A 2016 study done by [O'Reily](https://www.oreilly.com/data/free/files/2016-data-science-salary-survey.pdf) shows that ```Python``` is now dominant over ```R``` throughout the Data Science community, favoring ```Python 3.6``` to the soon to be extinct ```Python 2.7```.  I also plan to create a Data Science Playbook for ```R``` techniques in the future (I am still learning!).\n",
    "\n",
    "\n",
    "```Python``` has become the fastest growing programming language of 2019, and continues to remain the industry standard for modeling and analysis in the scientific and engineering industries.  The Scientific Python Stack is an array of technologies that make Python so powerful for Data analysis and statistical prediction.\n",
    "\n",
    "To get everything running in this project, use ```pip install -r requirements.txt```\n",
    "\n",
    "![green-divider](https://user-images.githubusercontent.com/7065401/52071924-c003ad80-2562-11e9-8297-1c6595f8a7ff.png)\n",
    "\n",
    "\n",
    "\n",
    "## Project Stack\n",
    "\n",
    "<p align=\"center\">\n",
    "  <img src=\"https://user-images.githubusercontent.com/19881320/54723910-6457a880-4b3f-11e9-850b-8c2be2ff62a8.jpg\">\n",
    "</p>\n",
    "\n",
    "### Language\n",
    "- Python 3.6 (replacing legacy Python 2.7 in 2020)\n",
    "- Cython (a speedy C library for backing up numpy)\n",
    "\n",
    "### Scientific & Numeric Power\n",
    "- SciPy\n",
    "- NumPy\n",
    "- SciKitLearn\n",
    "\n",
    "### Interactive Environment\n",
    "- Anaconda IDE\n",
    "- IPython Notebooks\n",
    "- GitHub (version control)\n",
    "- RMOTR Notebooks\n",
    "\n",
    "### Data Science Libraries\n",
    "- Analysis tools\n",
    "    - NumPy\n",
    "    - Pandas\n",
    "    - Cython\n",
    "- Visualization tools\n",
    "    - Matplotlib\n",
    "    - Seaborn\n",
    "    - Bokeh\n"
   ]
  },
  {
   "cell_type": "markdown",
   "metadata": {},
   "source": [
    "![green-divider](https://user-images.githubusercontent.com/7065401/52071924-c003ad80-2562-11e9-8297-1c6595f8a7ff.png)\n",
    "\n",
    "# Analyzing the epidemiological outbreak of COVID‐19\n",
    "\n",
    "A visual exploratory data analysis approach."
   ]
  },
  {
   "cell_type": "code",
   "execution_count": 3,
   "metadata": {},
   "outputs": [],
   "source": [
    "import numpy as np\n",
    "import pandas as pd\n",
    "import matplotlib.pyplot as plt\n",
    "import matplotlib.ticker as ticker\n",
    "import seaborn as sns\n",
    "\n",
    "%matplotlib inline"
   ]
  },
  {
   "cell_type": "code",
   "execution_count": 31,
   "metadata": {},
   "outputs": [
    {
     "name": "stdout",
     "output_type": "stream",
     "text": [
      "(25465, 9)\n"
     ]
    },
    {
     "data": {
      "text/html": [
       "<div>\n",
       "<style scoped>\n",
       "    .dataframe tbody tr th:only-of-type {\n",
       "        vertical-align: middle;\n",
       "    }\n",
       "\n",
       "    .dataframe tbody tr th {\n",
       "        vertical-align: top;\n",
       "    }\n",
       "\n",
       "    .dataframe thead th {\n",
       "        text-align: right;\n",
       "    }\n",
       "</style>\n",
       "<table border=\"1\" class=\"dataframe\">\n",
       "  <thead>\n",
       "    <tr style=\"text-align: right;\">\n",
       "      <th></th>\n",
       "      <th>Province/State</th>\n",
       "      <th>Country/Region</th>\n",
       "      <th>Lat</th>\n",
       "      <th>Long</th>\n",
       "      <th>date</th>\n",
       "      <th>confirmed</th>\n",
       "      <th>deaths</th>\n",
       "      <th>recovered</th>\n",
       "      <th>active</th>\n",
       "    </tr>\n",
       "  </thead>\n",
       "  <tbody>\n",
       "    <tr>\n",
       "      <th>0</th>\n",
       "      <td>NaN</td>\n",
       "      <td>Thailand</td>\n",
       "      <td>15.0000</td>\n",
       "      <td>101.0000</td>\n",
       "      <td>1/22/20</td>\n",
       "      <td>2</td>\n",
       "      <td>0</td>\n",
       "      <td>0</td>\n",
       "      <td>2</td>\n",
       "    </tr>\n",
       "    <tr>\n",
       "      <th>1</th>\n",
       "      <td>NaN</td>\n",
       "      <td>Japan</td>\n",
       "      <td>36.0000</td>\n",
       "      <td>138.0000</td>\n",
       "      <td>1/22/20</td>\n",
       "      <td>2</td>\n",
       "      <td>0</td>\n",
       "      <td>0</td>\n",
       "      <td>2</td>\n",
       "    </tr>\n",
       "    <tr>\n",
       "      <th>2</th>\n",
       "      <td>NaN</td>\n",
       "      <td>Singapore</td>\n",
       "      <td>1.2833</td>\n",
       "      <td>103.8333</td>\n",
       "      <td>1/22/20</td>\n",
       "      <td>0</td>\n",
       "      <td>0</td>\n",
       "      <td>0</td>\n",
       "      <td>0</td>\n",
       "    </tr>\n",
       "    <tr>\n",
       "      <th>3</th>\n",
       "      <td>NaN</td>\n",
       "      <td>Nepal</td>\n",
       "      <td>28.1667</td>\n",
       "      <td>84.2500</td>\n",
       "      <td>1/22/20</td>\n",
       "      <td>0</td>\n",
       "      <td>0</td>\n",
       "      <td>0</td>\n",
       "      <td>0</td>\n",
       "    </tr>\n",
       "    <tr>\n",
       "      <th>4</th>\n",
       "      <td>NaN</td>\n",
       "      <td>Malaysia</td>\n",
       "      <td>2.5000</td>\n",
       "      <td>112.5000</td>\n",
       "      <td>1/22/20</td>\n",
       "      <td>0</td>\n",
       "      <td>0</td>\n",
       "      <td>0</td>\n",
       "      <td>0</td>\n",
       "    </tr>\n",
       "  </tbody>\n",
       "</table>\n",
       "</div>"
      ],
      "text/plain": [
       "  Province/State Country/Region      Lat      Long     date  confirmed  \\\n",
       "0            NaN       Thailand  15.0000  101.0000  1/22/20          2   \n",
       "1            NaN          Japan  36.0000  138.0000  1/22/20          2   \n",
       "2            NaN      Singapore   1.2833  103.8333  1/22/20          0   \n",
       "3            NaN          Nepal  28.1667   84.2500  1/22/20          0   \n",
       "4            NaN       Malaysia   2.5000  112.5000  1/22/20          0   \n",
       "\n",
       "   deaths  recovered  active  \n",
       "0       0          0       2  \n",
       "1       0          0       2  \n",
       "2       0          0       0  \n",
       "3       0          0       0  \n",
       "4       0          0       0  "
      ]
     },
     "execution_count": 31,
     "metadata": {},
     "output_type": "execute_result"
    }
   ],
   "source": [
    "# Column names\n",
    "column_names = [\"Province_State\", \"Country_Region\", \"Lat\", \"Long\", \"Date\", \"Confirmed\", \"Deaths\", \"Active\"]\n",
    "COVID_DATASET = \"C:/Users/beefy/covid_19/app_data/covid_df.csv\"\n",
    "# Reading the CSV file using the col_names list in the names parameter:\n",
    "covid_df = pd.read_csv(COVID_DATASET, sep=\",\")\n",
    "\n",
    "\n",
    "print(covid_df.shape)\n",
    "\n",
    "covid_df.head()"
   ]
  },
  {
   "cell_type": "markdown",
   "metadata": {},
   "source": [
    "![green-divider](https://user-images.githubusercontent.com/7065401/52071924-c003ad80-2562-11e9-8297-1c6595f8a7ff.png)"
   ]
  },
  {
   "cell_type": "code",
   "execution_count": 40,
   "metadata": {},
   "outputs": [
    {
     "name": "stdout",
     "output_type": "stream",
     "text": [
      "Total confirmed cases:  3628957\n"
     ]
    }
   ],
   "source": [
    "confirmed_df = covid_df.drop(columns = [\"deaths\", \"recovered\", \"active\"])\n",
    "confirmed_df.head()\n",
    "\n",
    "confirmed_cases = 0\n",
    "confirmed_cases = confirmed_df[\"confirmed\"].sum()\n",
    "print(\"Total confirmed cases: \", confirmed_cases)"
   ]
  },
  {
   "cell_type": "code",
   "execution_count": 42,
   "metadata": {},
   "outputs": [
    {
     "name": "stdout",
     "output_type": "stream",
     "text": [
      "Total death cases:  116824\n"
     ]
    }
   ],
   "source": [
    "death_df = covid_df.drop(columns = [\"confirmed\", \"recovered\", \"active\"])\n",
    "death_df.head()\n",
    "\n",
    "death_cases = 0\n",
    "death_cases = death_df[\"deaths\"].sum()\n",
    "print(\"Total death cases: \", death_cases)"
   ]
  },
  {
   "cell_type": "code",
   "execution_count": 45,
   "metadata": {},
   "outputs": [
    {
     "name": "stdout",
     "output_type": "stream",
     "text": [
      "Total recovered cases:  1357289\n"
     ]
    }
   ],
   "source": [
    "recovered_df = covid_df.drop(columns = [\"confirmed\", \"deaths\", \"active\"])\n",
    "recovered_df.head()\n",
    "\n",
    "recovered_cases = 0\n",
    "recovered_cases = recovered_df[\"recovered\"].sum()\n",
    "print(\"Total recovered cases: \", recovered_cases)"
   ]
  },
  {
   "cell_type": "code",
   "execution_count": 46,
   "metadata": {},
   "outputs": [
    {
     "name": "stdout",
     "output_type": "stream",
     "text": [
      "Total active cases:  2154844\n"
     ]
    }
   ],
   "source": [
    "active_df = covid_df.drop(columns = [\"confirmed\", \"deaths\", \"recovered\"])\n",
    "active_cases = 0\n",
    "active_cases = covid_df[\"active\"].sum()\n",
    "print(\"Total active cases: \", active_cases)"
   ]
  },
  {
   "cell_type": "code",
   "execution_count": 49,
   "metadata": {},
   "outputs": [
    {
     "name": "stdout",
     "output_type": "stream",
     "text": [
      "Total net cases (active):  2154844\n"
     ]
    }
   ],
   "source": [
    "# Net cases\n",
    "net_cases = (confirmed_cases - death_cases - recovered_cases)\n",
    "print(\"Total net cases (active): \", net_cases)"
   ]
  },
  {
   "cell_type": "markdown",
   "metadata": {},
   "source": [
    "![green-divider](https://user-images.githubusercontent.com/7065401/52071924-c003ad80-2562-11e9-8297-1c6595f8a7ff.png)"
   ]
  },
  {
   "cell_type": "code",
   "execution_count": null,
   "metadata": {},
   "outputs": [],
   "source": []
  },
  {
   "cell_type": "code",
   "execution_count": null,
   "metadata": {},
   "outputs": [],
   "source": []
  }
 ],
 "metadata": {
  "kernelspec": {
   "display_name": "Python 3",
   "language": "python",
   "name": "python3"
  },
  "language_info": {
   "codemirror_mode": {
    "name": "ipython",
    "version": 3
   },
   "file_extension": ".py",
   "mimetype": "text/x-python",
   "name": "python",
   "nbconvert_exporter": "python",
   "pygments_lexer": "ipython3",
   "version": "3.7.1"
  }
 },
 "nbformat": 4,
 "nbformat_minor": 2
}
